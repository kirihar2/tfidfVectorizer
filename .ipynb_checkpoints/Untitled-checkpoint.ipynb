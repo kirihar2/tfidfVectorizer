{
 "cells": [
  {
   "cell_type": "code",
   "execution_count": 1,
   "metadata": {
    "collapsed": true
   },
   "outputs": [],
   "source": [
    "from sklearn.feature_extraction.text\timport TfidfVectorizer\n",
    "from nltk.stem import SnowballStemmer\n",
    "from sklearn.datasets import load_mlcomp,fetch_20newsgroups\n",
    "from sklearn.cluster import KMeans\n",
    "from scipy import linalg\n",
    "import os\n",
    "class StemmedTfidfVectorizer(TfidfVectorizer):\n",
    "\n",
    "\tdef\tbuild_analyzer(self):\n",
    "\n",
    "\t\tanalyzer=super(TfidfVectorizer, self).build_analyzer()\n",
    "\n",
    "\t\treturn lambda doc: (english_stemmer.stem(w)\tfor\tw in analyzer(doc))\n",
    "english_stemmer = SnowballStemmer('english')"
   ]
  },
  {
   "cell_type": "code",
   "execution_count": 2,
   "metadata": {
    "collapsed": false
   },
   "outputs": [
    {
     "name": "stderr",
     "output_type": "stream",
     "text": [
      "/Users/kiriharahiroshi/anaconda/lib/python2.7/site-packages/sklearn/utils/deprecation.py:77: DeprecationWarning: Function load_mlcomp is deprecated; since the http://mlcomp.org/ website will shut down in March 2017, the load_mlcomp function was deprecated in version 0.19 and will be removed in 0.21.\n",
      "  warnings.warn(msg, category=DeprecationWarning)\n",
      "/Users/kiriharahiroshi/anaconda/lib/python2.7/site-packages/sklearn/utils/deprecation.py:77: DeprecationWarning: Function load_mlcomp is deprecated; since the http://mlcomp.org/ website will shut down in March 2017, the load_mlcomp function was deprecated in version 0.19 and will be removed in 0.21.\n",
      "  warnings.warn(msg, category=DeprecationWarning)\n"
     ]
    },
    {
     "name": "stdout",
     "output_type": "stream",
     "text": [
      "/Users/kiriharahiroshi/PycharmProjects/tfidfVectorizer\n",
      "(13180, 12340)\n"
     ]
    }
   ],
   "source": [
    "vectorizer\t= StemmedTfidfVectorizer(min_df=10,stop_words='english',decode_error='ignore')\n",
    "MLCOMP_DIR = os.path.join(os.getcwd())\n",
    "print(MLCOMP_DIR)\n",
    "groups=['comp.graphics','comp.os.ms-windows.misc','comp.sys.ibm.pc.hardhware','comp.sys.mac.hardware','comp.windows.x','sci.space']\n",
    "#data = load_mlcomp(\"20news-18828\",mlcomp_root=MLCOMP_DIR)\n",
    "#train_data = fetch_20newsgroups(subset='train')\n",
    "#test_data = fetch_20newsgroups(subset='test')\n",
    "test_data = load_mlcomp(\"20news-18828\",\"test\",mlcomp_root=MLCOMP_DIR)\n",
    "train_data = load_mlcomp(\"20news-18828\",\"train\",mlcomp_root=MLCOMP_DIR)\n",
    "\n",
    "vectorized=vectorizer.fit_transform(train_data.data)\n",
    "num_samples,num_features=vectorized.shape\n",
    "print (num_samples,num_features)\n",
    "num_clusters=50\n",
    "km=KMeans(n_clusters=num_clusters,init='random',n_init=1,verbose=1)"
   ]
  },
  {
   "cell_type": "code",
   "execution_count": 3,
   "metadata": {
    "collapsed": false
   },
   "outputs": [
    {
     "name": "stdout",
     "output_type": "stream",
     "text": [
      "Initialization complete\n",
      "Iteration  0, inertia 23503.751\n",
      "Iteration  1, inertia 12505.563\n",
      "Iteration  2, inertia 12377.462\n",
      "Iteration  3, inertia 12316.145\n",
      "Iteration  4, inertia 12284.609\n",
      "Iteration  5, inertia 12265.759\n",
      "Iteration  6, inertia 12252.252\n",
      "Iteration  7, inertia 12243.717\n",
      "Iteration  8, inertia 12238.765\n",
      "Iteration  9, inertia 12236.363\n",
      "Iteration 10, inertia 12235.103\n",
      "Iteration 11, inertia 12233.907\n",
      "Iteration 12, inertia 12232.224\n",
      "Iteration 13, inertia 12230.262\n",
      "Iteration 14, inertia 12228.645\n",
      "Iteration 15, inertia 12227.412\n",
      "Iteration 16, inertia 12226.487\n",
      "Iteration 17, inertia 12225.765\n",
      "Iteration 18, inertia 12225.392\n",
      "Iteration 19, inertia 12225.181\n",
      "Iteration 20, inertia 12225.066\n",
      "Iteration 21, inertia 12224.987\n",
      "Iteration 22, inertia 12224.927\n",
      "Iteration 23, inertia 12224.875\n",
      "Iteration 24, inertia 12224.859\n",
      "Iteration 25, inertia 12224.840\n",
      "Iteration 26, inertia 12224.830\n",
      "Iteration 27, inertia 12224.828\n",
      "Iteration 28, inertia 12224.827\n",
      "Converged at iteration 28: center shift 0.000000e+00 within tolerance 7.960303e-09\n"
     ]
    },
    {
     "data": {
      "text/plain": [
       "KMeans(algorithm='auto', copy_x=True, init='random', max_iter=300,\n",
       "    n_clusters=50, n_init=1, n_jobs=1, precompute_distances='auto',\n",
       "    random_state=None, tol=0.0001, verbose=1)"
      ]
     },
     "execution_count": 3,
     "metadata": {},
     "output_type": "execute_result"
    }
   ],
   "source": [
    "km.fit(vectorized)"
   ]
  },
  {
   "cell_type": "code",
   "execution_count": 8,
   "metadata": {
    "collapsed": false
   },
   "outputs": [
    {
     "name": "stdout",
     "output_type": "stream",
     "text": [
      "((1, 12340), 4)\n"
     ]
    }
   ],
   "source": [
    "new_post=  \"Disk\tdrive\tproblems.\tHi,\tI\thave\ta\tproblem\twith\tmy hard\tdisk. After\t1\tyear\tit\tis\tworking\tonly\tsporadically\tnow. I\ttried\tto\tformat\tit,\tbut\tnow\tit\tdoesn't\tboot\tany more. Any\tideas?\tThanks.\"\n",
    "new_post_vec = vectorizer.transform([new_post])\n",
    "new_post_label=km.predict(new_post_vec)[0]\n",
    "print (new_post_vec.shape,new_post_label)"
   ]
  },
  {
   "cell_type": "code",
   "execution_count": 19,
   "metadata": {
    "collapsed": false
   },
   "outputs": [
    {
     "name": "stdout",
     "output_type": "stream",
     "text": [
      "(<1x12340 sparse matrix of type '<type 'numpy.float64'>'\n",
      "\twith 133 stored elements in Compressed Sparse Row format>, array([  131,   156,   164,   186,   458,   478,   510,   526,   550,\n",
      "         699,   705,   767,   812,   816,   871,   943,   967,   972,\n",
      "         993,  1009,  1024,  1188,  1365,  1448,  1503,  1527,  1540,\n",
      "        1620,  1641,  1725,  1973,  1983,  2054,  2179,  2326,  2405,\n",
      "        2494,  2506,  2560,  2662,  2839,  2851,  2984,  3127,  3167,\n",
      "        3177,  3243,  3308,  3438,  3483,  3874,  4020,  4031,  4054,\n",
      "        4073,  4083,  4108,  4110,  4124,  4141,  4167,  4398,  4512,\n",
      "        4536,  4742,  4751,  4879,  4942,  4985,  4988,  5099,  5332,\n",
      "        5338,  5413,  5489,  5540,  5548,  5618,  5807,  5824,  5873,\n",
      "        5925,  6071,  6126,  6493,  6722,  6733,  6911,  6997,  7011,\n",
      "        7075,  7142,  7627,  7656,  7736,  7808,  7937,  8030,  8108,\n",
      "        8110,  8145,  8155,  8160,  8334,  8358,  8416,  8497,  8542,\n",
      "        8634,  8717,  8731,  8834,  8874,  8922,  8963,  9003,  9018,\n",
      "        9040,  9118,  9278,  9309,  9432,  9528,  9536,  9622,  9795,\n",
      "        9902, 10086, 10111, 10272, 10288, 10310, 10401, 10700, 10814,\n",
      "       10849, 10947, 10973, 11082, 11095, 11218, 11247, 11474, 11481,\n",
      "       11523, 11535, 11574, 11628, 11821, 11917, 11947, 11956, 11962,\n",
      "       12044, 12126, 12157, 12321, 12323, 12643, 12755, 12862, 12913,\n",
      "       12929, 13027, 13136, 13143]))\n"
     ]
    }
   ],
   "source": [
    "similar_indices=(km.labels_==new_post_label).nonzero()[0]\n",
    "print((new_post_vec - vectorized[131]),similar_indices)"
   ]
  },
  {
   "cell_type": "code",
   "execution_count": 22,
   "metadata": {
    "collapsed": false
   },
   "outputs": [
    {
     "name": "stdout",
     "output_type": "stream",
     "text": [
      "166\n"
     ]
    }
   ],
   "source": [
    "similar=[]\n",
    "for i in similar_indices:\n",
    "\tdist=linalg.norm((new_post_vec - vectorized[i]).toarray())\n",
    "\tsimilar.append((dist,train_data.data[i]))\n",
    "similar=sorted(similar)\n",
    "print(len(similar))"
   ]
  },
  {
   "cell_type": "code",
   "execution_count": 24,
   "metadata": {
    "collapsed": false
   },
   "outputs": [
    {
     "name": "stdout",
     "output_type": "stream",
     "text": [
      "From: tcking@uswnvg.com (Tim King)\n",
      "Subject: Gateway 2000 & booting from floppy\n",
      "\n",
      "\n",
      "I have a Gateway 4DX-33V with my 3.5 inch floppy as drive A.  I\n",
      "accidentally discovered that if a have a floppy from ONE particular\n",
      "box of diskettets in the A drive when I boot up, rather than getting\n",
      "the \"Non-system diskette\" message, the machine hangs and the CMOS\n",
      "gets overwritten (luckily, Gateway sends a print of the standard\n",
      "CMOS settings with their systems).  This only happens with a box\n",
      "of pre-formatted Fuji disks that I have, no other disks cause this\n",
      "problem.  If I re-format one of the Fuji disks, the problem goes away.\n",
      "I did a virus scan (scan v1.02) of the disks and found nothing.\n",
      "\n",
      "Anyone have any idea what is going on here?  Hardware problem?  A\n",
      "virus that can't be detected?  The system reading in garbage from\n",
      "the boot sector?\n",
      "\n",
      "--\n",
      "Tim King, tcking@uswnvg.com\n",
      "\n"
     ]
    }
   ],
   "source": [
    "print(similar[0][1])"
   ]
  },
  {
   "cell_type": "code",
   "execution_count": 25,
   "metadata": {
    "collapsed": false
   },
   "outputs": [
    {
     "name": "stdout",
     "output_type": "stream",
     "text": [
      "From: menchett@dws015.unr.edu (Peter J Menchetti)\n",
      "Subject: Adobe Type Manager - what good is it??\n",
      "\n",
      "The subject says it all. I bought Adobe Type Manager and find it completely\n",
      "useless. I ftped some atm fonts and couldn't install them. What's the use?\n",
      "Are you supposed to be able to convert ATM fonts to Truetype?\n",
      "\n",
      "If there's anyone out there who has this program and actually finds it \n",
      "useful, enlighten me!\n",
      "\n",
      "Pete\n",
      "\n",
      "\n"
     ]
    }
   ],
   "source": [
    "print(similar[len(similar)-1][1])"
   ]
  },
  {
   "cell_type": "code",
   "execution_count": null,
   "metadata": {
    "collapsed": false
   },
   "outputs": [],
   "source": []
  }
 ],
 "metadata": {
  "kernelspec": {
   "display_name": "Python 2",
   "language": "python",
   "name": "python2"
  },
  "language_info": {
   "codemirror_mode": {
    "name": "ipython",
    "version": 2
   },
   "file_extension": ".py",
   "mimetype": "text/x-python",
   "name": "python",
   "nbconvert_exporter": "python",
   "pygments_lexer": "ipython2",
   "version": "2.7.12"
  }
 },
 "nbformat": 4,
 "nbformat_minor": 0
}
