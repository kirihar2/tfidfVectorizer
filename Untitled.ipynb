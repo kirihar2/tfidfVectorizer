{
 "cells": [
  {
   "cell_type": "code",
   "execution_count": 2,
   "metadata": {
    "collapsed": true
   },
   "outputs": [],
   "source": [
    "from sklearn.feature_extraction.text\timport TfidfVectorizer\n",
    "from nltk.stem import SnowballStemmer\n",
    "from sklearn.datasets import load_mlcomp,fetch_20newsgroups\n",
    "from sklearn.cluster import KMeans\n",
    "from scipy import linalg\n",
    "import os\n",
    "class StemmedTfidfVectorizer(TfidfVectorizer):\n",
    "\n",
    "\tdef\tbuild_analyzer(self):\n",
    "\n",
    "\t\tanalyzer=super(TfidfVectorizer, self).build_analyzer()\n",
    "\n",
    "\t\treturn lambda doc: (english_stemmer.stem(w)\tfor\tw in analyzer(doc))\n",
    "english_stemmer = SnowballStemmer('english')"
   ]
  },
  {
   "cell_type": "code",
   "execution_count": 3,
   "metadata": {
    "collapsed": false
   },
   "outputs": [
    {
     "name": "stderr",
     "output_type": "stream",
     "text": [
      "/Users/kiriharahiroshi/anaconda/lib/python2.7/site-packages/sklearn/utils/deprecation.py:77: DeprecationWarning: Function load_mlcomp is deprecated; since the http://mlcomp.org/ website will shut down in March 2017, the load_mlcomp function was deprecated in version 0.19 and will be removed in 0.21.\n",
      "  warnings.warn(msg, category=DeprecationWarning)\n",
      "/Users/kiriharahiroshi/anaconda/lib/python2.7/site-packages/sklearn/utils/deprecation.py:77: DeprecationWarning: Function load_mlcomp is deprecated; since the http://mlcomp.org/ website will shut down in March 2017, the load_mlcomp function was deprecated in version 0.19 and will be removed in 0.21.\n",
      "  warnings.warn(msg, category=DeprecationWarning)\n"
     ]
    },
    {
     "name": "stdout",
     "output_type": "stream",
     "text": [
      "/Users/kiriharahiroshi/PycharmProjects/tfidfVectorizer\n",
      "(13180, 12340)\n"
     ]
    }
   ],
   "source": [
    "vectorizer\t= StemmedTfidfVectorizer(min_df=10,stop_words='english',decode_error='ignore')\n",
    "MLCOMP_DIR = os.path.join(os.getcwd())\n",
    "print(MLCOMP_DIR)\n",
    "groups=['comp.graphics','comp.os.ms-windows.misc','comp.sys.ibm.pc.hardhware','comp.sys.mac.hardware','comp.windows.x','sci.space']\n",
    "#data = load_mlcomp(\"20news-18828\",mlcomp_root=MLCOMP_DIR)\n",
    "#train_data = fetch_20newsgroups(subset='train')\n",
    "#test_data = fetch_20newsgroups(subset='test')\n",
    "test_data = load_mlcomp(\"20news-18828\",\"test\",mlcomp_root=MLCOMP_DIR)\n",
    "train_data = load_mlcomp(\"20news-18828\",\"train\",mlcomp_root=MLCOMP_DIR)\n",
    "\n",
    "vectorized=vectorizer.fit_transform(train_data.data)\n",
    "num_samples,num_features=vectorized.shape\n",
    "print (num_samples,num_features)\n",
    "num_clusters=50\n",
    "km=KMeans(n_clusters=num_clusters,init='random',n_init=1,verbose=1)"
   ]
  },
  {
   "cell_type": "code",
   "execution_count": 4,
   "metadata": {
    "collapsed": false
   },
   "outputs": [
    {
     "name": "stdout",
     "output_type": "stream",
     "text": [
      "Initialization complete\n",
      "Iteration  0, inertia 23668.458\n",
      "Iteration  1, inertia 12505.377\n",
      "Iteration  2, inertia 12364.466\n",
      "Iteration  3, inertia 12302.740\n",
      "Iteration  4, inertia 12273.093\n",
      "Iteration  5, inertia 12252.285\n",
      "Iteration  6, inertia 12236.282\n",
      "Iteration  7, inertia 12225.492\n",
      "Iteration  8, inertia 12218.425\n",
      "Iteration  9, inertia 12215.951\n",
      "Iteration 10, inertia 12214.410\n",
      "Iteration 11, inertia 12213.444\n",
      "Iteration 12, inertia 12212.577\n",
      "Iteration 13, inertia 12211.713\n",
      "Iteration 14, inertia 12210.760\n",
      "Iteration 15, inertia 12210.186\n",
      "Iteration 16, inertia 12209.639\n",
      "Iteration 17, inertia 12208.961\n",
      "Iteration 18, inertia 12208.391\n",
      "Iteration 19, inertia 12207.434\n",
      "Iteration 20, inertia 12204.662\n",
      "Iteration 21, inertia 12200.959\n",
      "Iteration 22, inertia 12200.367\n",
      "Iteration 23, inertia 12199.787\n",
      "Iteration 24, inertia 12199.050\n",
      "Iteration 25, inertia 12198.067\n",
      "Iteration 26, inertia 12196.627\n",
      "Iteration 27, inertia 12196.118\n",
      "Iteration 28, inertia 12195.828\n",
      "Iteration 29, inertia 12195.709\n",
      "Iteration 30, inertia 12195.655\n",
      "Iteration 31, inertia 12195.599\n",
      "Iteration 32, inertia 12195.579\n",
      "Iteration 33, inertia 12195.572\n",
      "Iteration 34, inertia 12195.570\n",
      "Converged at iteration 34: center shift 0.000000e+00 within tolerance 7.960303e-09\n"
     ]
    },
    {
     "data": {
      "text/plain": [
       "KMeans(algorithm='auto', copy_x=True, init='random', max_iter=300,\n",
       "    n_clusters=50, n_init=1, n_jobs=1, precompute_distances='auto',\n",
       "    random_state=None, tol=0.0001, verbose=1)"
      ]
     },
     "execution_count": 4,
     "metadata": {},
     "output_type": "execute_result"
    }
   ],
   "source": [
    "km.fit(vectorized)"
   ]
  },
  {
   "cell_type": "code",
   "execution_count": 5,
   "metadata": {
    "collapsed": false
   },
   "outputs": [
    {
     "name": "stdout",
     "output_type": "stream",
     "text": [
      "((1, 12340), 21)\n"
     ]
    }
   ],
   "source": [
    "new_post=  \"Disk\tdrive\tproblems.\tHi,\tI\thave\ta\tproblem\twith\tmy hard\tdisk. After\t1\tyear\tit\tis\tworking\tonly\tsporadically\tnow. I\ttried\tto\tformat\tit,\tbut\tnow\tit\tdoesn't\tboot\tany more. Any\tideas?\tThanks.\"\n",
    "new_post_vec = vectorizer.transform([new_post])\n",
    "new_post_label=km.predict(new_post_vec)[0]\n",
    "print (new_post_vec.shape,new_post_label)"
   ]
  },
  {
   "cell_type": "code",
   "execution_count": 6,
   "metadata": {
    "collapsed": false
   },
   "outputs": [
    {
     "name": "stdout",
     "output_type": "stream",
     "text": [
      "(<1x12340 sparse matrix of type '<type 'numpy.float64'>'\n",
      "\twith 133 stored elements in Compressed Sparse Row format>, array([  105,   123,   285,   316,   381,   415,   451,   466,   484,\n",
      "         510,   548,   550,   649,   665,   792,   837,   974,  1009,\n",
      "        1158,  1171,  1283,  1311,  1365,  1503,  1540,  1723,  1738,\n",
      "        1747,  1776,  1964,  1980,  2008,  2031,  2054,  2151,  2242,\n",
      "        2467,  2475,  2482,  2489,  2571,  2582,  2586,  2644,  2662,\n",
      "        2665,  2686,  2719,  2775,  2900,  3024,  3037,  3181,  3243,\n",
      "        3286,  3316,  3401,  3438,  3442,  3457,  3474,  3478,  3483,\n",
      "        3744,  3803,  4001,  4031,  4073,  4108,  4118,  4186,  4190,\n",
      "        4466,  4508,  4524,  4536,  4546,  4585,  4612,  4631,  4733,\n",
      "        4742,  4835,  4894,  4921,  4942,  5005,  5008,  5052,  5059,\n",
      "        5099,  5338,  5374,  5397,  5411,  5437,  5480,  5534,  5574,\n",
      "        5688,  5787,  5807,  5885,  5917,  5935,  5974,  5990,  6046,\n",
      "        6087,  6210,  6273,  6335,  6395,  6515,  6589,  6613,  6623,\n",
      "        6699,  6716,  6722,  6733,  6800,  6833,  6869,  6871,  6881,\n",
      "        6894,  6999,  7015,  7048,  7093,  7099,  7125,  7161,  7427,\n",
      "        7627,  7684,  7696,  7700,  7719,  7736,  7951,  8008,  8110,\n",
      "        8160,  8191,  8208,  8253,  8368,  8375,  8518,  8566,  8705,\n",
      "        8731,  8763,  8820,  8867,  8905,  8922,  9001,  9011,  9118,\n",
      "        9161,  9163,  9231,  9278,  9311,  9318,  9320,  9322,  9337,\n",
      "        9391,  9505,  9516,  9536,  9564,  9568,  9664,  9682,  9732,\n",
      "        9845,  9907, 10024, 10025, 10035, 10108, 10166, 10196, 10217,\n",
      "       10224, 10243, 10296, 10364, 10401, 10437, 10542, 10586, 10673,\n",
      "       10693, 10695, 10719, 10831, 10974, 11261, 11273, 11318, 11346,\n",
      "       11402, 11448, 11457, 11465, 11539, 11610, 11628, 11687, 11724,\n",
      "       11766, 11857, 11876, 12123, 12126, 12127, 12141, 12157, 12182,\n",
      "       12197, 12200, 12233, 12238, 12255, 12279, 12320, 12348, 12455,\n",
      "       12505, 12707, 12840, 12862, 12886, 12961, 12976, 13096, 13171]))\n"
     ]
    }
   ],
   "source": [
    "similar_indices=(km.labels_==new_post_label).nonzero()[0]\n",
    "print((new_post_vec - vectorized[131]),similar_indices)"
   ]
  },
  {
   "cell_type": "code",
   "execution_count": 7,
   "metadata": {
    "collapsed": false
   },
   "outputs": [
    {
     "name": "stdout",
     "output_type": "stream",
     "text": [
      "243\n"
     ]
    }
   ],
   "source": [
    "similar=[]\n",
    "for i in similar_indices:\n",
    "\tdist=linalg.norm((new_post_vec - vectorized[i]).toarray())\n",
    "\tsimilar.append((dist,train_data.data[i]))\n",
    "similar=sorted(similar)\n",
    "print(len(similar))"
   ]
  },
  {
   "cell_type": "code",
   "execution_count": 8,
   "metadata": {
    "collapsed": false
   },
   "outputs": [
    {
     "name": "stdout",
     "output_type": "stream",
     "text": [
      "From: rogntorb@idt.unit.no (Torbj|rn Rognes)\n",
      "Subject: Adding int. hard disk drive to IIcx\n",
      "\n",
      "I haven't seen much info about how to add an extra internal disk to a\n",
      "mac. We would like to try it, and I wonder if someone had some good\n",
      "advice.\n",
      "\n",
      "We have a Mac IIcx with the original internal Quantum 40MB hard disk,\n",
      "and an unusable floppy drive. We also have a new spare Connor 40MB\n",
      "disk which we would like to use. The idea is to replace the broken\n",
      "floppy drive with the new hard disk, but there seems to be some\n",
      "problems:\n",
      "\n",
      "The internal SCSI cable and power cable inside the cx has only\n",
      "connectors for one single hard disk drive.\n",
      "\n",
      "If I made a ribbon cable and a power cable with three connectors each\n",
      "(1 for motherboard, 1 for each of the 2 disks), would it work?\n",
      "\n",
      "Is the IIcx able to supply the extra power to the extra disk?\n",
      "\n",
      "What about terminators? I suppose that i should remove the resistor\n",
      "packs from the disk that is closest to the motherboard, but leave them\n",
      "installed in the other disk.\n",
      "\n",
      "The SCSI ID jumpers should also be changed so that the new disk gets\n",
      "ID #1. The old one should have ID #0.\n",
      "\n",
      "It is no problem for us to remove the floppy drive, as we have an\n",
      "external floppy that we can use if it won't boot of the hard disk.\n",
      "\n",
      "Thank you!\n",
      "\n",
      "----------------------------------------------------------------------\n",
      "Torbj|rn Rognes                            Email: rogntorb@idt.unit.no\n",
      "\n"
     ]
    }
   ],
   "source": [
    "print(similar[0][1])"
   ]
  },
  {
   "cell_type": "code",
   "execution_count": 9,
   "metadata": {
    "collapsed": false
   },
   "outputs": [
    {
     "name": "stdout",
     "output_type": "stream",
     "text": [
      "From: UC532838@mizzou1.missouri.edu (handy)\n",
      "Subject: Help needed on installing 2nd IDE HD..\n",
      "\n",
      "greetings..\n",
      "I'm a novice in messing comp. hardware.\n",
      "My original IDE HD is a 42MB Western Digital which came with the system\n",
      "when I bought it. And I just got a 213MB IDE HD Maxtor that I wanted to\n",
      "add as a slave drive. I did change the jumper settings on 213A Maxtor to\n",
      "configure it as slave drv, but I didn't change anything on my 42M Western\n",
      "Dig, since I didn't have any doc. on it. And as I predicted, It just beeped\n",
      "and gave me an error message about HDD controller.\n",
      "So, I had to take my 42M off & install my 213A to be my only HD.\n",
      " \n",
      "any help on this matter would be much appreciated.\n",
      "(before I trashed my 42MB)\n",
      " \n",
      "Thankx much\n",
      " \n",
      "Handy Trisakti - uc532838@mizzou1.missouri.edu\n",
      "\n"
     ]
    }
   ],
   "source": [
    "print(similar[len(similar)-1][1])"
   ]
  },
  {
   "cell_type": "code",
   "execution_count": 14,
   "metadata": {
    "collapsed": false
   },
   "outputs": [
    {
     "name": "stdout",
     "output_type": "stream",
     "text": [
      "('From: demon@desire.wright.edu (Not a Boomer)\\nSubject: The real source of trouble in the US health care system\\n\\n\\tCancel private health insurance?\\n\\n\\tWhen government care that only covers 20% of the population consumes\\n42% of the spending for health care?\\n\\n\\tNOT!\\n\\n\\tNational Health Expenditures: 1960 to 1990\\n(Includes Puerto Rico and outlying areas.)\\n\\nYear\\tHealth Services and Supplies ($billions)\\n\\tPrivate\\t\\tPublic\\n====================================\\n1960\\t$19.8\\t\\t$5.7\\t(22% of total)\\n1970\\t$44.1\\t\\t$24.9\\t(56% of total)\\n1980\\t$140.7\\t\\t$98.1\\t(41% of total)\\n1990\\t$374.8\\t\\t$268.6\\t(42% of total)\\n\\n[Source: American Almanac, Page 97.  1992-3 Edition]\\n\\n\\tNow you understand where most of that 12.2% of GNP is going--to waste.\\n\\n\\tBy these figures, private insurance is spending 58% of the money to\\ncover 4 times as many people.\\n\\n\\tGo figure.\\n\\nBrett\\n________________________________________________________________________________\\n\\t\"There\\'s nothing so passionate as a vested interest disguised as an\\nintellectual conviction.\"  Sean O\\'Casey in _The White Plague_ by Frank Herbert.\\n', 18)\n",
      "['alt.atheism', 'comp.graphics', 'comp.os.ms-windows.misc', 'comp.sys.ibm.pc.hardware', 'comp.sys.mac.hardware', 'comp.windows.x', 'misc.forsale', 'rec.autos', 'rec.motorcycles', 'rec.sport.baseball', 'rec.sport.hockey', 'sci.crypt', 'sci.electronics', 'sci.med', 'sci.space', 'soc.religion.christian', 'talk.politics.guns', 'talk.politics.mideast', 'talk.politics.misc', 'talk.religion.misc']\n"
     ]
    }
   ],
   "source": [
    "post_group = zip(train_data.data,train_data.target)\n",
    "print(post_group[0])\n",
    "print(train_data.target_names)"
   ]
  },
  {
   "cell_type": "code",
   "execution_count": 19,
   "metadata": {
    "collapsed": false
   },
   "outputs": [
    {
     "name": "stdout",
     "output_type": "stream",
     "text": [
      "[(70, 'From: dohertyl@dcs.gla.ac.uk (dohertyl)\\nSubject: (none)\\n\\nI AM Satan!\\n\\n', 'soc.religion.christian'), (70, 'From: mittl003@staff.tc.umn.edu ()\\nSubject: Fast Modems & Slow Macs\\n\\n\\n', 'comp.sys.mac.hardware'), (72, 'From: dkibbe@med.unc.edu (David C. Kibbe)\\nSubject: quality management\\n\\n\\n', 'sci.med')]\n"
     ]
    }
   ],
   "source": [
    "z=[(len(post[0]),post[0], train_data.target_names[post[1]])  for post in post_group]\n",
    "z=sorted(z)\n",
    "print(z[5:8])"
   ]
  },
  {
   "cell_type": "code",
   "execution_count": null,
   "metadata": {
    "collapsed": true
   },
   "outputs": [],
   "source": []
  },
  {
   "cell_type": "code",
   "execution_count": null,
   "metadata": {
    "collapsed": true
   },
   "outputs": [],
   "source": []
  }
 ],
 "metadata": {
  "kernelspec": {
   "display_name": "Python 2",
   "language": "python",
   "name": "python2"
  },
  "language_info": {
   "codemirror_mode": {
    "name": "ipython",
    "version": 2
   },
   "file_extension": ".py",
   "mimetype": "text/x-python",
   "name": "python",
   "nbconvert_exporter": "python",
   "pygments_lexer": "ipython2",
   "version": "2.7.12"
  }
 },
 "nbformat": 4,
 "nbformat_minor": 0
}
